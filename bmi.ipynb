{
 "cells": [
  {
   "cell_type": "code",
   "execution_count": 1,
   "id": "4b020af0",
   "metadata": {},
   "outputs": [],
   "source": [
    "import tkinter as tk\n",
    "from tkinter import ttk, messagebox\n",
    "import sqlite3\n",
    "import matplotlib.pyplot as plt\n",
    "from matplotlib.backends.backend_tkagg import FigureCanvasTkAgg\n",
    "\n"
   ]
  },
  {
   "cell_type": "code",
   "execution_count": 2,
   "id": "7f88a826",
   "metadata": {},
   "outputs": [],
   "source": [
    "# Database initialization\n",
    "conn = sqlite3.connect('bmi_data.db')\n",
    "c = conn.cursor()\n",
    "c.execute('''CREATE TABLE IF NOT EXISTS bmi_records\n",
    "             (id INTEGER PRIMARY KEY AUTOINCREMENT, date TEXT, weight REAL, height REAL, bmi REAL)''')\n",
    "conn.commit()\n",
    "\n"
   ]
  },
  {
   "cell_type": "code",
   "execution_count": 3,
   "id": "0c7dc8c1",
   "metadata": {},
   "outputs": [],
   "source": [
    "def calculate_bmi(weight, height):\n",
    "    try:\n",
    "        bmi = weight / (height ** 2)\n",
    "        return round(bmi, 2)\n",
    "    except ZeroDivisionError:\n",
    "        return None\n",
    "\n"
   ]
  },
  {
   "cell_type": "code",
   "execution_count": 4,
   "id": "86e12311",
   "metadata": {},
   "outputs": [],
   "source": [
    "def classify_bmi(bmi):\n",
    "    if bmi is None:\n",
    "        return \"Error: Height should be greater than 0.\"\n",
    "    elif bmi < 18.5:\n",
    "        return \"Underweight\"\n",
    "    elif 18.5 <= bmi < 25:\n",
    "        return \"Normal weight\"\n",
    "    elif 25 <= bmi < 30:\n",
    "        return \"Overweight\"\n",
    "    else:\n",
    "        return \"Obese\"\n"
   ]
  },
  {
   "cell_type": "code",
   "execution_count": 5,
   "id": "82ede65c",
   "metadata": {},
   "outputs": [],
   "source": [
    "\n",
    "def save_data(date, weight, height, bmi):\n",
    "    c.execute(\"INSERT INTO bmi_records (date, weight, height, bmi) VALUES (?, ?, ?, ?)\", (date, weight, height, bmi))\n",
    "    conn.commit()\n",
    "\n"
   ]
  },
  {
   "cell_type": "code",
   "execution_count": 6,
   "id": "3aa1b39e",
   "metadata": {},
   "outputs": [],
   "source": [
    "def plot_bmi_trend():\n",
    "    c.execute(\"SELECT date, bmi FROM bmi_records\")\n",
    "    data = c.fetchall()\n",
    "\n",
    "    if not data:\n",
    "        messagebox.showinfo(\"No Data\", \"No BMI data available for plotting.\")\n",
    "        return\n",
    "\n",
    "    dates, bmis = zip(*data)\n",
    "\n",
    "    fig, ax = plt.subplots()\n",
    "    ax.plot(dates, bmis, marker='o', linestyle='-')\n",
    "    ax.set(xlabel='Date', ylabel='BMI', title='BMI Trend Over Time')\n",
    "    ax.grid()\n",
    "    \n",
    "    plt.xticks(rotation=45)\n",
    "    \n",
    "    canvas = FigureCanvasTkAgg(fig, master=window)\n",
    "    canvas_widget = canvas.get_tk_widget()\n",
    "    canvas_widget.grid(row=5, column=0, columnspan=3)\n",
    "\n"
   ]
  },
  {
   "cell_type": "code",
   "execution_count": 7,
   "id": "17b7b03f",
   "metadata": {},
   "outputs": [],
   "source": [
    "def calculate_and_display():\n",
    "    try:\n",
    "        weight = float(weight_entry.get())\n",
    "        height = float(height_entry.get())\n",
    "    except ValueError:\n",
    "        messagebox.showerror(\"Invalid Input\", \"Please enter valid numerical values for weight and height.\")\n",
    "        return\n",
    "\n",
    "    bmi = calculate_bmi(weight, height)\n",
    "    category = classify_bmi(bmi)\n",
    "\n",
    "    result_label.config(text=f\"Your BMI is: {bmi}\\nCategory: {category}\")\n",
    "\n",
    "    date = date_entry.get()\n",
    "    save_data(date, weight, height, bmi)\n",
    "\n",
    "    plot_bmi_trend()\n",
    "\n"
   ]
  },
  {
   "cell_type": "code",
   "execution_count": 8,
   "id": "2a42ad37",
   "metadata": {},
   "outputs": [
    {
     "data": {
      "text/plain": [
       "''"
      ]
     },
     "execution_count": 8,
     "metadata": {},
     "output_type": "execute_result"
    }
   ],
   "source": [
    "# GUI setup\n",
    "window = tk.Tk()\n",
    "window.title(\"BMI Calculator\")\n",
    "\n"
   ]
  },
  {
   "cell_type": "code",
   "execution_count": 9,
   "id": "81b60247",
   "metadata": {},
   "outputs": [],
   "source": [
    "# Entry fields\n",
    "date_label = ttk.Label(window, text=\"Date:\")\n",
    "date_label.grid(row=0, column=0, sticky='e')\n",
    "\n",
    "date_entry = ttk.Entry(window)\n",
    "date_entry.grid(row=0, column=1)\n",
    "\n",
    "weight_label = ttk.Label(window, text=\"Weight (kg):\")\n",
    "weight_label.grid(row=1, column=0, sticky='e')\n",
    "\n",
    "weight_entry = ttk.Entry(window)\n",
    "weight_entry.grid(row=1, column=1)\n",
    "\n",
    "height_label = ttk.Label(window, text=\"Height (m):\")\n",
    "height_label.grid(row=2, column=0, sticky='e')\n",
    "\n",
    "height_entry = ttk.Entry(window)\n",
    "height_entry.grid(row=2, column=1)\n",
    "\n"
   ]
  },
  {
   "cell_type": "code",
   "execution_count": 10,
   "id": "7bec30e8",
   "metadata": {},
   "outputs": [],
   "source": [
    "# Calculate button\n",
    "calculate_button = ttk.Button(window, text=\"Calculate BMI\", command=calculate_and_display)\n",
    "calculate_button.grid(row=3, column=0, columnspan=2)\n",
    "\n"
   ]
  },
  {
   "cell_type": "code",
   "execution_count": 11,
   "id": "f47cb75d",
   "metadata": {},
   "outputs": [],
   "source": [
    "# Result label\n",
    "result_label = ttk.Label(window, text=\"\")\n",
    "result_label.grid(row=4, column=0, columnspan=2)\n",
    "\n"
   ]
  },
  {
   "cell_type": "code",
   "execution_count": null,
   "id": "812ba616",
   "metadata": {},
   "outputs": [],
   "source": [
    "# Run the GUI\n",
    "window.mainloop()\n",
    "\n"
   ]
  },
  {
   "cell_type": "code",
   "execution_count": 13,
   "id": "4fb051be",
   "metadata": {},
   "outputs": [],
   "source": [
    "# Close the database connection\n",
    "conn.close()"
   ]
  },
  {
   "cell_type": "code",
   "execution_count": null,
   "id": "ca636ae8",
   "metadata": {},
   "outputs": [],
   "source": []
  }
 ],
 "metadata": {
  "kernelspec": {
   "display_name": "Python 3 (ipykernel)",
   "language": "python",
   "name": "python3"
  },
  "language_info": {
   "codemirror_mode": {
    "name": "ipython",
    "version": 3
   },
   "file_extension": ".py",
   "mimetype": "text/x-python",
   "name": "python",
   "nbconvert_exporter": "python",
   "pygments_lexer": "ipython3",
   "version": "3.9.13"
  }
 },
 "nbformat": 4,
 "nbformat_minor": 5
}
